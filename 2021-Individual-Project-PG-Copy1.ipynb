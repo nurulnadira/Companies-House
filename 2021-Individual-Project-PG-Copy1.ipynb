{
 "cells": [
  {
   "cell_type": "code",
   "execution_count": 1,
   "id": "6210e2b8",
   "metadata": {},
   "outputs": [
    {
     "data": {
      "text/html": [
       "<style>.container { width:100% !important; }</style>"
      ],
      "text/plain": [
       "<IPython.core.display.HTML object>"
      ]
     },
     "metadata": {},
     "output_type": "display_data"
    }
   ],
   "source": [
    "# experimental: you can run this cell to see your code full-width\n",
    "\n",
    "from IPython.core.display import display, HTML\n",
    "display(HTML(\"<style>.container { width:100% !important; }</style>\"))"
   ]
  },
  {
   "cell_type": "markdown",
   "id": "cf72289e",
   "metadata": {},
   "source": [
    "# Final Individual Assignment: \n",
    "\n",
    "\n",
    "## Answer 3 Business Questions using Companies House API\n",
    "\n",
    "This assignment follows exactly the same format as all of your other assignments for this course.\n",
    "\n",
    "**As in all the other assignments you are asked to:**\n",
    "\n",
    "- look at a dataset using python and identify a business question\n",
    "- write a mini-report that answers your business question \n",
    "- accompany your report with a visualisation (table, graph, etc)"
   ]
  },
  {
   "cell_type": "markdown",
   "id": "2646ae98",
   "metadata": {},
   "source": [
    "**What is different from previous assignments:**\n",
    "\n",
    "- this project is **individual**, you are not working in pairs\n",
    "- you are given a specific dataset (Companies House API, which you used before)\n",
    "- you are asked to answer **THREE DIFFERENT QUESTIONS**. Each question will have its own code, report and visualisation\n",
    "- you need to identify questions by yourself. Ask about something that can be answered with this data. Also attempt to ask something that can be useful in a business context.\n",
    "- try to keep each of the 3 questions quite different from each other (eg. do not make them reuse all of the same code or identical visualisation)\n",
    "- do not re-use your question from your week 10 assignment. Ask new questions.\n",
    "- all libraries and visualisation methods are allowed\n",
    "- your report does NOT need to use any complicated statistical or programming techniques. Rather try to look into whas is available in the data and find something interestin in it\n",
    "- if you keep running out of your quote (because youa re making a lot of API calls), consider saving your API results in a file, and then getting more API results, and adding them to the same file."
   ]
  },
  {
   "cell_type": "markdown",
   "id": "cbf7762e",
   "metadata": {},
   "source": [
    "### Example Questions: You can use these, change them or design your own\n",
    "\n",
    "**What makes a company more fair in terms of gender equality?** Look at the data about ownership/voting  - does this data behave differently for people of different genders, ages and nationalities? hint: We can sometimes deduce a person's gender from their title (Mr, Mrs) but not always (Dr). You could compare companies with the word X and word Y in their name, or look at some other variable to see which companies are more equal than others.\n",
    "\n",
    "**When's a good time to start a tourism business?** Looking at tourism-related companies, do you see patterns in years/months of creation and cessation (closing)? Are companies created at some times more likely to survive for longer? note: to get tourism-related companies, first fetch company details for many tourism words ['travel','trip','cruise',...] and then check their Standard Industrial Classification (SIC) codes.\n",
    "\n",
    "**What is the best place in UK to set up a fintech company?** Did it change over the years? Look at locations of companies in a sector, and where they are based. Does the count of companies, or the lengths of time they survive, change over time? Does it change differently in different locations? note: to get industry's companies you could use the method described above (using many words and filtering SIC codes)\n",
    "\n",
    "Note: these really are just examples. Feel free to look at anything that is of interest to you, and can be answered with this data"
   ]
  },
  {
   "cell_type": "markdown",
   "id": "4f45b923",
   "metadata": {},
   "source": [
    "## Deliverables for each Question: Code, Mini-report, Visualisation\n",
    "\n",
    "### Code\n",
    "\n",
    "In your notebook please include all the **code** that you used to arrive at the conclusion. \n",
    "\n",
    "- It is absolutely ok to re-use your own code from one question in another question\n",
    "- But please write the most important parts of code for each Question that help you to answer the question \n",
    "\n",
    "\n",
    "### Mini-report\n",
    "\n",
    "At the end of your notebook, you should provide:\n",
    "\n",
    "- a markdown (text) cell with your mini-report (200 words +/- 10%). For reference, 'Marking criteria' section below has around 220 words)\n",
    "\n",
    "### Visualisation\n",
    "\n",
    "Use the data you extracted to further your argument with visualisations:\n",
    "\n",
    "- a cell that will generate the graph or table that accompanies your mini-report (you are allowed to combine a number of graphs, if they are combined into one unit and make sense, eg. combining 3 bar charts side by side, or overlapping a line chart with a bar chart)."
   ]
  },
  {
   "cell_type": "markdown",
   "id": "06a0602c",
   "metadata": {},
   "source": [
    "Marking Criteria for each Question (same as in previous assignments)\n",
    "\n",
    "**Business Question and Answer:**\n",
    "\n",
    "Did you manage to find a question that can be answered with given data? As an analyst, you will often have to dive into available data and identify how it can help the business, or solve a problem, without first knowing what the problem is. Also, can you formulate a clear answer to the question you created?\n",
    " \n",
    "- 50% - C - GOOD - question and answer are clear, well defined and connect with the dataset\n",
    "- 60% - B - VERY GOOD - argument is clearly positioned in a business context, and attempts to provide value/insight\n",
    "- 70% - A - EXCELLENT - insights are novel, actionable and the writeup is of publishable quality.\n",
    "\n",
    "**Using the Data:**\n",
    "\n",
    "How well did you use the data to answer your question? Your answer should be supported by what you found in the data. Briefly describe why this was the correct data, and the correct analysis to perform on it.\n",
    " \n",
    "- 50% - C - GOOD - data selected is appropriate for the task, analysis is clear, the source is mentioned\n",
    "- 60% - B - VERY GOOD - data analysis section advances the argument, makes a clear point and is easy to read and understand\n",
    "- 70% - A - EXCELLENT - analysis is insightful, using multiple parts of the data set in a creative way\n",
    "\n",
    "**Visualisation:**\n",
    "\n",
    "Can you aid your argument/answer with visual clues? A graph can say a thousand words, but it is also easy to make one that is confusing, or misleading. Use simple (or highly customised) graphs to make your argument clearer.\n",
    " \n",
    "- 50% - C - GOOD - graph is communicative, appropriate and similar complexity as in the notes\n",
    "- 60% - B - VERY GOOD - graph is customised and combines a number of styles and types of visualisation\n",
    "- 70% - A - EXCELLENT - graph is using clear visual language to make a point, adds to the argument, and is of publishable quality\n",
    "\n",
    "**Code Quality:**\n",
    "\n",
    "Is your code clean, readable and DRY (Don't repeat yourself)? Are you using good readable variable names? Did you clean up your code and does it not include any old/unused parts?\n",
    " \n",
    "- 50% - C - GOOD - code has meaningful variable names, no needlessly repeated code\n",
    "- 60% - B - VERY GOOD - also signposted, reasonably commented and cleaned up\n",
    "- 70% - A - EXCELLENT - also code has a logical flow, consistency of names and granularity/size\n",
    "\n",
    "**Code Structure:**\n",
    "\n",
    "Is your code well structured and broken down? Just like good writing has sentences, paragraphs and chapters, good code should be split into sections. Break down your code into cells and functions. Use meaningful signposts (eg. comments, function names) to guide the reader through your code.\n",
    " \n",
    "- 50% - C - GOOD - code is broken down into cells, by the code's purpose\n",
    "- 60% - B - VERY GOOD - code is broken down by cell and also separated and readable. Attempts on reusing code are made\n",
    "- 70% - A - EXCELLENT - code is split into functions and/or objects and can be easily reused"
   ]
  },
  {
   "cell_type": "markdown",
   "id": "29ee9850",
   "metadata": {},
   "source": [
    "# API we will use: Companies House\n",
    "\n",
    "Companies house is the official public  register of all companies in the UK. You can search for companiers, peope etc. You can also get basic information about many companies, or request detailed information about one company. You will need to create an account - probably best if you use your university email address. You can find more information on companies house website and https://developer.company-information.service.gov.uk/get-started. "
   ]
  },
  {
   "cell_type": "markdown",
   "id": "548d60ec",
   "metadata": {},
   "source": [
    "**All possible API calls you can make:**\n",
    "\n",
    "There is a number of calls you can make from the API. Find all the details (and info about the format of answers) here: https://developer-specs.company-information.service.gov.uk/companies-house-public-data-api/reference"
   ]
  },
  {
   "cell_type": "markdown",
   "id": "57cc3a7c",
   "metadata": {},
   "source": [
    "**Extra notes:  Standard Industrial Classification (SIC)**\n",
    "\n",
    "company infomation includes 'industry type' as a SIC code. List of codes is here: https://assets.publishing.service.gov.uk/government/uploads/system/uploads/attachment_data/file/527619/SIC07_CH_condensed_list_en.csv/preview\n",
    "\n",
    "for example:\n",
    "\n",
    "- 72200 Research and experimental development on social sciences and humanities\n",
    "- 73110 Advertising agencies\n",
    "- 73120 Media representation services\n",
    "- 73200 Market research and public opinion polling\n",
    "- 74100 specialised design activities\n",
    "- 74201 Portrait photographic activities\n",
    "- 74202 Other specialist photography\n",
    "- 74203 Film processing"
   ]
  },
  {
   "cell_type": "markdown",
   "id": "a257e29e",
   "metadata": {},
   "source": [
    "# If you do not have one yet: creating a developer account and API  key \n",
    "\n",
    "You likely already have an account and key from your previous assignments - it's probably easiest and best if you reuse that account and key."
   ]
  },
  {
   "cell_type": "markdown",
   "id": "4111af6e",
   "metadata": {},
   "source": [
    "To create a new one:\n",
    "\n",
    "- Go to 'register a user account' link https://identity.company-information.service.gov.uk/oauth2/user/signin, enter your **school email** and then click the link you received by email\n",
    "- setup a password\n",
    "- login to https://identity.company-information.service.gov.uk/oauth2/user/signin\n",
    "- go to New Application on top (https://developer.company-information.service.gov.uk/manage-applications/add)\n",
    "- ented a name and short description for your API project (just say it's a univeristy project) and choose **Live in 'environment for your application'**. Leave other options blank.\n",
    "- go to 'View all applications' (https://developer.company-information.service.gov.uk/manage-applications)\n",
    "- click on the name of your application, and then 'Create new key'\n",
    "- Select these options:\n",
    "-    Key name and description: here write anything, like 'python project'\n",
    "-    Select the type of API client key you want to create: REST\n",
    "- leave other options empty, and click 'Create Key'\n",
    "- When done, scroll down and copy-paste your key to this notebook. key will look a bit like this: \te3aaad12-fd44-4aad-9389-f7dccccc67f9\n",
    "\n",
    "Once you are set up:\n",
    "\n",
    "- all the possible requests can be found here: https://developer-specs.company-information.service.gov.uk/companies-house-public-data-api/reference\n",
    "- by the way: you are allowed to ask 600 requests within each five-minute period, after that period, you get another 600. If you use up all the 600 questions, API will make you wait for a few seconds/minutes."
   ]
  },
  {
   "cell_type": "markdown",
   "id": "7d4daaac",
   "metadata": {},
   "source": [
    "# Some functions to get you started: \n",
    "\n"
   ]
  },
  {
   "cell_type": "code",
   "execution_count": 2,
   "id": "8ad22cd8",
   "metadata": {},
   "outputs": [],
   "source": [
    "# list of library for this project\n",
    "import requests\n",
    "import pprint as pp\n",
    "import datetime\n",
    "from datetime import date \n",
    "from datetime import datetime\n",
    "import math\n",
    "# you might need to add a few of your own"
   ]
  },
  {
   "cell_type": "code",
   "execution_count": 3,
   "id": "b24fd15d",
   "metadata": {},
   "outputs": [],
   "source": [
    "# function for calling the API to retrieve JSON\n",
    "def call_api_with(url_extension):\n",
    "    your_company_house_api_key =\"TODO: once you create a key for companies house paste it here\"\n",
    "        \n",
    "    login_headers = {\"Authorization\":your_company_house_api_key}\n",
    "    url = f\"https://api.companieshouse.gov.uk/{url_extension}\"\n",
    "    # above: could be eg. https://api.companieshouse.gov.uk/search/companies?q=shop&items_per_page=1\n",
    "    print(f'requesting: {url}') \n",
    "    # above, optional: printing, so that you see visually how many calls you are making\n",
    "    res = requests.get(url, headers=login_headers) #, verify=False)\n",
    "    return res.json()"
   ]
  },
  {
   "cell_type": "code",
   "execution_count": 4,
   "id": "fc5c6739",
   "metadata": {},
   "outputs": [],
   "source": [
    "# test to get one company\n",
    "def get_one_test_company_or_error():\n",
    "    url = f\"search/companies?q=shop&items_per_page=1\"\n",
    "    return call_api_with(url)"
   ]
  },
  {
   "cell_type": "code",
   "execution_count": 114,
   "id": "fc84e380",
   "metadata": {},
   "outputs": [],
   "source": [
    "# search company with specific query / keyword\n",
    "def search_for_companies_with_query(query, number_of_companies = 100):\n",
    "    # for simplicity round up the number of returned companies to the nearest hundred. eg. 130 becomes 200\n",
    "    page_size = 100\n",
    "    number_of_pages = math.ceil(number_of_companies / page_size) # round up\n",
    "    companies = []\n",
    "    for page_index in range(0, number_of_pages):\n",
    "        url = f\"search/companies?q={query}&items_per_page={page_size}&index_start={page_index*page_size}\"\n",
    "        companies += call_api_with(url).get('items', [])\n",
    "    return companies"
   ]
  },
  {
   "cell_type": "code",
   "execution_count": 6,
   "id": "a06d9d0e",
   "metadata": {},
   "outputs": [],
   "source": [
    "# request to get company data based on company number\n",
    "def data_for_company(company_number):\n",
    "    url = f\"company/{company_number}\"\n",
    "    return call_api_with(url)"
   ]
  },
  {
   "cell_type": "code",
   "execution_count": 7,
   "id": "519efbdf",
   "metadata": {},
   "outputs": [],
   "source": [
    "# get all persons with significant control from company which contains specific keyword\n",
    "def all_persons_in_company(company_number):\n",
    "    url = f\"company/{company_number}/persons-with-significant-control\"\n",
    "    return call_api_with(url).get('items', [])"
   ]
  },
  {
   "cell_type": "code",
   "execution_count": 8,
   "id": "29d6697b",
   "metadata": {},
   "outputs": [],
   "source": [
    "def detailed_info_about_companies_with_ids(companies_numbers):\n",
    "    results = []\n",
    "    for company_number in companies_numbers:\n",
    "        results.append(data_for_company(company_number))\n",
    "    return results"
   ]
  },
  {
   "cell_type": "code",
   "execution_count": 9,
   "id": "e63b61c6",
   "metadata": {},
   "outputs": [],
   "source": [
    "# you are likely to use top level functions like this one.\n",
    "def detailed_info_about_companies_with_name(name, how_many = 10):\n",
    "    # eg. unless otherwise stated, just grab 10 companies detailed info\n",
    "    companies_basic_info = search_for_companies_with_query(name, how_many)\n",
    "    companies_ids = [company['company_number'] for company in companies_basic_info]\n",
    "    companies = detailed_info_about_companies_with_ids(companies_ids[:how_many])\n",
    "    return companies"
   ]
  },
  {
   "cell_type": "code",
   "execution_count": null,
   "id": "1ce047b9",
   "metadata": {},
   "outputs": [],
   "source": [
    "# example usage. \n",
    "# note: To save your quota limits, try to fetch data first, and them analyse it. \n",
    "details = detailed_info_about_companies_with_name('banana', how_many=15)"
   ]
  },
  {
   "cell_type": "code",
   "execution_count": null,
   "id": "f1836011",
   "metadata": {},
   "outputs": [],
   "source": [
    "pp.pprint(len(details))\n",
    "pp.pprint([detail['company_name'] for detail in details])\n",
    "pp.pprint(details[1])"
   ]
  },
  {
   "cell_type": "code",
   "execution_count": null,
   "id": "80ca64a3",
   "metadata": {},
   "outputs": [],
   "source": [
    "persons = all_persons_in_company(details[0]['company_number'])\n",
    "pp.pprint(persons)"
   ]
  },
  {
   "cell_type": "markdown",
   "id": "7499380a",
   "metadata": {},
   "source": [
    "### End of example code"
   ]
  },
  {
   "cell_type": "markdown",
   "id": "4180115e",
   "metadata": {},
   "source": [
    "# Business Question 1:"
   ]
  },
  {
   "cell_type": "markdown",
   "id": "18915b62",
   "metadata": {},
   "source": [
    "### Business Question 1: Code:"
   ]
  },
  {
   "cell_type": "code",
   "execution_count": 3,
   "id": "7c9a234e",
   "metadata": {
    "deletable": false,
    "nbgrader": {
     "cell_type": "code",
     "checksum": "9a6e3a6a854c5207e8fcb66335471a5d",
     "grade": true,
     "grade_id": "cell-b5b5ea7c8326b1d9",
     "locked": false,
     "points": 100,
     "schema_version": 3,
     "solution": true,
     "task": false
    }
   },
   "outputs": [],
   "source": [
    "# YOUR CODE HERE\n",
    "import os\n",
    "import math\n",
    "import time\n",
    "import json\n",
    "import requests\n",
    "import numpy as np\n",
    "import pandas as pd\n",
    "import pprint as pp\n",
    "import seaborn as sns\n",
    "from datetime import date \n",
    "from statistics import mean\n",
    "from datetime import datetime\n",
    "import matplotlib.pyplot as plt\n",
    "from dateutil.relativedelta import relativedelta"
   ]
  },
  {
   "cell_type": "code",
   "execution_count": 73,
   "id": "2d2d4537",
   "metadata": {},
   "outputs": [],
   "source": [
    "def call_api_with(url_extension):\n",
    "    your_company_house_api_key =\"be0ce292-0b62-42e0-9a4c-39c4024bf3c7\"\n",
    "    login_headers = {\"Authorization\":your_company_house_api_key}\n",
    "    url = f\"https://api.companieshouse.gov.uk/{url_extension}\"\n",
    "    #print(f'requesting: {url}') # comment this out if it 'polutes' your output with lots of prints\n",
    "    res = requests.get(url, headers=login_headers) #, verify=False)\n",
    "    if res.status_code == 200:\n",
    "        return res.json()\n",
    "    else:\n",
    "        print(\"status code is not 'SUCCESS 200'. Will wait 20 seconds\")\n",
    "        time.sleep(20) # sleep X seconds\n",
    "        return call_api_with(url_extension)\n",
    "\n",
    "# test to get one company\n",
    "def get_one_test_company_or_error():\n",
    "    url = f\"search/companies?q=shop&items_per_page=1\"\n",
    "    return call_api_with(url)\n",
    "\n",
    "def search_for_companies_with_query_by_location(query, number_of_companies):\n",
    "    page_size = 100\n",
    "    number_of_pages = math.ceil(number_of_companies / page_size) # round up\n",
    "    companies = []\n",
    "    for page_index in range(0, number_of_pages):\n",
    "        url = f\"search/companies?q=location:{query}&items_per_page={page_size}&start_index={page_index*page_size}\"\n",
    "        companies += call_api_with(url).get('items', [])\n",
    "    companies_ids=[company['company_number'] for company in companies]\n",
    "    companies=detailed_info_about_companies_with_ids(companies_ids[:number_of_companies])\n",
    "    return companies\n",
    "\n",
    "# request to get company data based on company number\n",
    "\n",
    "def data_for_company(company_number):\n",
    "    url = f\"company/{company_number}\"\n",
    "    return call_api_with(url)\n",
    "\n",
    "def remove_columns(dataset, to_remove):\n",
    "    data = dataset.copy()\n",
    "    data = dataset.drop(to_remove, axis=1, errors='ignore')\n",
    "    return data\n",
    "\n",
    "def detailed_info_about_companies_with_ids(companies_numbers):\n",
    "    results = []\n",
    "    for company_number in companies_numbers:\n",
    "        results.append(data_for_company(company_number))\n",
    "    return results\n",
    "\n",
    "# function to retrieve company filing history using company number\n",
    "def search_company_filing(company_number):\n",
    "    url = f\"company/{company_number}/filing-history\"\n",
    "    return call_api_with(url).get('items', [])\n",
    "\n",
    "#retrieve company creation year and calculate lifespan of company\n",
    "def calc_lifespan_ycreation(data):\n",
    "    lifespan=[]\n",
    "    year_of_creation=[]\n",
    "    for i in range(len(data)):\n",
    "        lifespan.append(2021-int(data['date_of_creation'].iloc[i][:4]))\n",
    "        year_of_creation.append(edin_comp['date_of_creation'].iloc[i][:4])\n",
    "    data['lifespan']=lifespan\n",
    "    data['year_of_creation']=year_of_creation\n",
    "    return data\n",
    "\n",
    "#calculate number of accounts issued for the company\n",
    "def accts_issued(data):\n",
    "    data['accounts_issued']= '0'\n",
    "    data['accounts_issued']= data['accounts_issued'].astype(int)\n",
    "    \n",
    "    for n in range(0,len(data.index)):\n",
    "        files = search_company_filing(data['company_number'].iloc[n])\n",
    "        df_files =pd.DataFrame(data=files)\n",
    "        if df_files.empty == True:\n",
    "            df_edinburgh_companies['accounts_issued'].iloc[n]=0 #check for any nulls and fill in with 0\n",
    "        else:\n",
    "            acc_count = df_files.category.str.count(\"accounts\").sum() #counts all files in the category that is assigned to account\n",
    "            data['accounts_issued'].iloc[n]= acc_count #store count in acc_issued column\n",
    "    return data\n",
    "\n",
    "#categorize the lifespan of the companies, whether it is less or more than 10 years\n",
    "def label_lifespan(data):\n",
    "    if data['lifespan'] <= 10:\n",
    "        return '0 to 10 years'\n",
    "    else:\n",
    "        return 'More than 10 years'"
   ]
  },
  {
   "cell_type": "code",
   "execution_count": 8,
   "id": "48223f6a",
   "metadata": {},
   "outputs": [
    {
     "name": "stdout",
     "output_type": "stream",
     "text": [
      "status code is not 'SUCCESS 200'. Will wait 20 seconds\n",
      "status code is not 'SUCCESS 200'. Will wait 20 seconds\n",
      "status code is not 'SUCCESS 200'. Will wait 20 seconds\n",
      "status code is not 'SUCCESS 200'. Will wait 20 seconds\n",
      "status code is not 'SUCCESS 200'. Will wait 20 seconds\n",
      "status code is not 'SUCCESS 200'. Will wait 20 seconds\n",
      "status code is not 'SUCCESS 200'. Will wait 20 seconds\n",
      "status code is not 'SUCCESS 200'. Will wait 20 seconds\n",
      "status code is not 'SUCCESS 200'. Will wait 20 seconds\n",
      "status code is not 'SUCCESS 200'. Will wait 20 seconds\n",
      "status code is not 'SUCCESS 200'. Will wait 20 seconds\n",
      "status code is not 'SUCCESS 200'. Will wait 20 seconds\n",
      "status code is not 'SUCCESS 200'. Will wait 20 seconds\n",
      "status code is not 'SUCCESS 200'. Will wait 20 seconds\n",
      "status code is not 'SUCCESS 200'. Will wait 20 seconds\n",
      "status code is not 'SUCCESS 200'. Will wait 20 seconds\n",
      "status code is not 'SUCCESS 200'. Will wait 20 seconds\n",
      "status code is not 'SUCCESS 200'. Will wait 20 seconds\n",
      "status code is not 'SUCCESS 200'. Will wait 20 seconds\n",
      "status code is not 'SUCCESS 200'. Will wait 20 seconds\n",
      "status code is not 'SUCCESS 200'. Will wait 20 seconds\n"
     ]
    }
   ],
   "source": [
    "#Retrieve company information\n",
    "company=search_for_companies_with_query_by_location(\"EH8\",1000)"
   ]
  },
  {
   "cell_type": "code",
   "execution_count": 61,
   "id": "f2f0d462",
   "metadata": {},
   "outputs": [],
   "source": [
    "#convert data to dataframe\n",
    "df_data = pd.DataFrame(data=company)"
   ]
  },
  {
   "cell_type": "code",
   "execution_count": 74,
   "id": "b9130010",
   "metadata": {},
   "outputs": [
    {
     "data": {
      "text/html": [
       "<div>\n",
       "<style scoped>\n",
       "    .dataframe tbody tr th:only-of-type {\n",
       "        vertical-align: middle;\n",
       "    }\n",
       "\n",
       "    .dataframe tbody tr th {\n",
       "        vertical-align: top;\n",
       "    }\n",
       "\n",
       "    .dataframe thead th {\n",
       "        text-align: right;\n",
       "    }\n",
       "</style>\n",
       "<table border=\"1\" class=\"dataframe\">\n",
       "  <thead>\n",
       "    <tr style=\"text-align: right;\">\n",
       "      <th></th>\n",
       "      <th>accounts</th>\n",
       "      <th>company_name</th>\n",
       "      <th>company_number</th>\n",
       "      <th>company_status</th>\n",
       "      <th>date_of_creation</th>\n",
       "      <th>etag</th>\n",
       "      <th>has_charges</th>\n",
       "      <th>has_insolvency_history</th>\n",
       "      <th>jurisdiction</th>\n",
       "      <th>last_full_members_list_date</th>\n",
       "      <th>...</th>\n",
       "      <th>has_super_secure_pscs</th>\n",
       "      <th>status</th>\n",
       "      <th>has_been_liquidated</th>\n",
       "      <th>previous_company_names</th>\n",
       "      <th>company_status_detail</th>\n",
       "      <th>annual_return</th>\n",
       "      <th>foreign_company_details</th>\n",
       "      <th>branch_company_details</th>\n",
       "      <th>is_community_interest_company</th>\n",
       "      <th>subtype</th>\n",
       "    </tr>\n",
       "  </thead>\n",
       "  <tbody>\n",
       "    <tr>\n",
       "      <th>0</th>\n",
       "      <td>{'last_accounts': {'made_up_to': '2009-05-31',...</td>\n",
       "      <td>A &amp; D LEISURE (SCOTLAND) LTD</td>\n",
       "      <td>SC295364</td>\n",
       "      <td>dissolved</td>\n",
       "      <td>2006-01-12</td>\n",
       "      <td>78a323cad3109ce592861c47f6e14b94df94b39d</td>\n",
       "      <td>False</td>\n",
       "      <td>False</td>\n",
       "      <td>scotland</td>\n",
       "      <td>2011-01-12</td>\n",
       "      <td>...</td>\n",
       "      <td>NaN</td>\n",
       "      <td>NaN</td>\n",
       "      <td>NaN</td>\n",
       "      <td>NaN</td>\n",
       "      <td>NaN</td>\n",
       "      <td>NaN</td>\n",
       "      <td>NaN</td>\n",
       "      <td>NaN</td>\n",
       "      <td>NaN</td>\n",
       "      <td>NaN</td>\n",
       "    </tr>\n",
       "    <tr>\n",
       "      <th>1</th>\n",
       "      <td>{'accounting_reference_date': {'day': '31', 'm...</td>\n",
       "      <td>A&amp;R NEWSBOX LTD</td>\n",
       "      <td>SC518520</td>\n",
       "      <td>dissolved</td>\n",
       "      <td>2015-10-22</td>\n",
       "      <td>7764a7d2555cb7d702fbf075ce0c540161bcda32</td>\n",
       "      <td>False</td>\n",
       "      <td>False</td>\n",
       "      <td>scotland</td>\n",
       "      <td>NaN</td>\n",
       "      <td>...</td>\n",
       "      <td>NaN</td>\n",
       "      <td>NaN</td>\n",
       "      <td>NaN</td>\n",
       "      <td>NaN</td>\n",
       "      <td>NaN</td>\n",
       "      <td>NaN</td>\n",
       "      <td>NaN</td>\n",
       "      <td>NaN</td>\n",
       "      <td>NaN</td>\n",
       "      <td>NaN</td>\n",
       "    </tr>\n",
       "    <tr>\n",
       "      <th>2</th>\n",
       "      <td>{'accounting_reference_date': {'month': '08', ...</td>\n",
       "      <td>A &amp; S LOCUM SERVICES LTD</td>\n",
       "      <td>SC544051</td>\n",
       "      <td>dissolved</td>\n",
       "      <td>2016-08-30</td>\n",
       "      <td>6924bda456db7c981bdaa9a2db4c65c9ef4d657c</td>\n",
       "      <td>False</td>\n",
       "      <td>False</td>\n",
       "      <td>scotland</td>\n",
       "      <td>NaN</td>\n",
       "      <td>...</td>\n",
       "      <td>NaN</td>\n",
       "      <td>NaN</td>\n",
       "      <td>NaN</td>\n",
       "      <td>NaN</td>\n",
       "      <td>NaN</td>\n",
       "      <td>NaN</td>\n",
       "      <td>NaN</td>\n",
       "      <td>NaN</td>\n",
       "      <td>NaN</td>\n",
       "      <td>NaN</td>\n",
       "    </tr>\n",
       "    <tr>\n",
       "      <th>3</th>\n",
       "      <td>{'last_accounts': {'type': 'null'}, 'next_due'...</td>\n",
       "      <td>AARON BROOK GAME AND COUNTRY LTD</td>\n",
       "      <td>SC708934</td>\n",
       "      <td>active</td>\n",
       "      <td>2021-09-08</td>\n",
       "      <td>9f51b4cd1c0a6b6edaaf987bcef74f26e6d7a654</td>\n",
       "      <td>False</td>\n",
       "      <td>False</td>\n",
       "      <td>scotland</td>\n",
       "      <td>NaN</td>\n",
       "      <td>...</td>\n",
       "      <td>False</td>\n",
       "      <td>NaN</td>\n",
       "      <td>NaN</td>\n",
       "      <td>NaN</td>\n",
       "      <td>NaN</td>\n",
       "      <td>NaN</td>\n",
       "      <td>NaN</td>\n",
       "      <td>NaN</td>\n",
       "      <td>NaN</td>\n",
       "      <td>NaN</td>\n",
       "    </tr>\n",
       "    <tr>\n",
       "      <th>4</th>\n",
       "      <td>{'last_accounts': {'period_end_on': '2021-03-3...</td>\n",
       "      <td>ABC-ACCESSORIES LTD</td>\n",
       "      <td>SC561601</td>\n",
       "      <td>active</td>\n",
       "      <td>2017-03-27</td>\n",
       "      <td>795db1e0b8b97e2ee6aae83aae36a8e0f7456f00</td>\n",
       "      <td>False</td>\n",
       "      <td>False</td>\n",
       "      <td>scotland</td>\n",
       "      <td>NaN</td>\n",
       "      <td>...</td>\n",
       "      <td>False</td>\n",
       "      <td>NaN</td>\n",
       "      <td>NaN</td>\n",
       "      <td>NaN</td>\n",
       "      <td>NaN</td>\n",
       "      <td>NaN</td>\n",
       "      <td>NaN</td>\n",
       "      <td>NaN</td>\n",
       "      <td>NaN</td>\n",
       "      <td>NaN</td>\n",
       "    </tr>\n",
       "  </tbody>\n",
       "</table>\n",
       "<p>5 rows × 29 columns</p>\n",
       "</div>"
      ],
      "text/plain": [
       "                                            accounts  \\\n",
       "0  {'last_accounts': {'made_up_to': '2009-05-31',...   \n",
       "1  {'accounting_reference_date': {'day': '31', 'm...   \n",
       "2  {'accounting_reference_date': {'month': '08', ...   \n",
       "3  {'last_accounts': {'type': 'null'}, 'next_due'...   \n",
       "4  {'last_accounts': {'period_end_on': '2021-03-3...   \n",
       "\n",
       "                       company_name company_number company_status  \\\n",
       "0      A & D LEISURE (SCOTLAND) LTD       SC295364      dissolved   \n",
       "1                   A&R NEWSBOX LTD       SC518520      dissolved   \n",
       "2          A & S LOCUM SERVICES LTD       SC544051      dissolved   \n",
       "3  AARON BROOK GAME AND COUNTRY LTD       SC708934         active   \n",
       "4               ABC-ACCESSORIES LTD       SC561601         active   \n",
       "\n",
       "  date_of_creation                                      etag has_charges  \\\n",
       "0       2006-01-12  78a323cad3109ce592861c47f6e14b94df94b39d       False   \n",
       "1       2015-10-22  7764a7d2555cb7d702fbf075ce0c540161bcda32       False   \n",
       "2       2016-08-30  6924bda456db7c981bdaa9a2db4c65c9ef4d657c       False   \n",
       "3       2021-09-08  9f51b4cd1c0a6b6edaaf987bcef74f26e6d7a654       False   \n",
       "4       2017-03-27  795db1e0b8b97e2ee6aae83aae36a8e0f7456f00       False   \n",
       "\n",
       "  has_insolvency_history jurisdiction last_full_members_list_date  ...  \\\n",
       "0                  False     scotland                  2011-01-12  ...   \n",
       "1                  False     scotland                         NaN  ...   \n",
       "2                  False     scotland                         NaN  ...   \n",
       "3                  False     scotland                         NaN  ...   \n",
       "4                  False     scotland                         NaN  ...   \n",
       "\n",
       "  has_super_secure_pscs status has_been_liquidated previous_company_names  \\\n",
       "0                   NaN    NaN                 NaN                    NaN   \n",
       "1                   NaN    NaN                 NaN                    NaN   \n",
       "2                   NaN    NaN                 NaN                    NaN   \n",
       "3                 False    NaN                 NaN                    NaN   \n",
       "4                 False    NaN                 NaN                    NaN   \n",
       "\n",
       "  company_status_detail annual_return  foreign_company_details  \\\n",
       "0                   NaN           NaN                      NaN   \n",
       "1                   NaN           NaN                      NaN   \n",
       "2                   NaN           NaN                      NaN   \n",
       "3                   NaN           NaN                      NaN   \n",
       "4                   NaN           NaN                      NaN   \n",
       "\n",
       "  branch_company_details is_community_interest_company subtype  \n",
       "0                    NaN                           NaN     NaN  \n",
       "1                    NaN                           NaN     NaN  \n",
       "2                    NaN                           NaN     NaN  \n",
       "3                    NaN                           NaN     NaN  \n",
       "4                    NaN                           NaN     NaN  \n",
       "\n",
       "[5 rows x 29 columns]"
      ]
     },
     "execution_count": 74,
     "metadata": {},
     "output_type": "execute_result"
    }
   ],
   "source": [
    "df_data.head()"
   ]
  },
  {
   "cell_type": "code",
   "execution_count": 75,
   "id": "788d69c0",
   "metadata": {},
   "outputs": [],
   "source": [
    "#save files\n",
    "df_data.to_csv('Edinburgh companies.csv',date_format='%Y-%m-%d %H:%M:%S')"
   ]
  },
  {
   "cell_type": "code",
   "execution_count": 76,
   "id": "6cfff312",
   "metadata": {},
   "outputs": [],
   "source": [
    "#load data\n",
    "df_data = pd.read_csv('Edinburgh companies.csv')"
   ]
  },
  {
   "cell_type": "code",
   "execution_count": 77,
   "id": "de5a3165",
   "metadata": {},
   "outputs": [
    {
     "name": "stderr",
     "output_type": "stream",
     "text": [
      "/Users/nurulnadira/opt/anaconda3/lib/python3.8/site-packages/pandas/core/indexing.py:1637: SettingWithCopyWarning: \n",
      "A value is trying to be set on a copy of a slice from a DataFrame\n",
      "\n",
      "See the caveats in the documentation: https://pandas.pydata.org/pandas-docs/stable/user_guide/indexing.html#returning-a-view-versus-a-copy\n",
      "  self._setitem_single_block(indexer, value, name)\n"
     ]
    }
   ],
   "source": [
    "#select relevant column and filter only active companies in the dataframe\n",
    "edin_comp = df_data[['company_name','company_number','date_of_creation', 'company_status']]\n",
    "edin_comp = edin_comp.loc[edin_comp[\"company_status\"]==\"active\"]\n",
    "\n",
    "#get year of creation and operation\n",
    "edin_comp=calc_lifespan_ycreation(edin_comp)\n",
    "\n",
    "#companies created in 2021 will have 0 year lifespan and will be removed\n",
    "edin_comp = edin_comp.loc[edin_comp[\"lifespan\"]!=0]\n",
    "\n",
    "#get no. of accounts issued for each company\n",
    "edin_comp=accts_issued(edin_comp)\n",
    "\n",
    "#get accounts issued percentage\n",
    "edin_comp[\"lifespan\"] = pd.to_numeric(edin_comp[\"lifespan\"])\n",
    "edin_comp['accounts_issued_percentage']=(edin_comp[\"accounts_issued\"]/edin_comp[\"lifespan\"])*100\n",
    "\n",
    "#label lifespan (more than 10, less than 10 etc.)\n",
    "edin_comp['lifespan_label']=edin_comp.apply (lambda row: label_lifespan(row), axis=1)\n",
    "\n",
    "#split the accounts to three percentage categories, 0-50, 50-100 and create pie chart\n",
    "edin_comp['accounts_issued_percentage']=pd.cut(edin_comp['accounts_issued_percentage'], [0,50, 100])"
   ]
  },
  {
   "cell_type": "code",
   "execution_count": 78,
   "id": "2229e78c",
   "metadata": {},
   "outputs": [
    {
     "data": {
      "text/plain": [
       "(50, 100]    198\n",
       "(0, 50]       85\n",
       "Name: accounts_issued_percentage, dtype: int64"
      ]
     },
     "execution_count": 78,
     "metadata": {},
     "output_type": "execute_result"
    }
   ],
   "source": [
    "edin_comp['accounts_issued_percentage'].value_counts()"
   ]
  },
  {
   "cell_type": "markdown",
   "id": "027592ea",
   "metadata": {},
   "source": [
    "### Business Question 1: Mini-report and visualisation:"
   ]
  },
  {
   "cell_type": "markdown",
   "id": "latin-burning",
   "metadata": {},
   "source": [
    "Based on UK regulations, all companies registered under Companies House should file their accounts on annual basis, even if the companies are dormant or not earning any income. However, we can see that there are companies that have not reported their accounts on the website, suggesting that the company either failed to report their accounts timely, dormant, or has closed down. In any case, it's a red flag for Companies House to check further since these businesses might be involved in money laundering or fraud.\n",
    "\n",
    "I would like to narrow the search to filter companies in City of Edinburgh to consult Companies House on which companies they should look into. The company data were collected from the API and filtered by active companies. The total number of accounts were computed and categorised into companies that had accounts reporting rate of 50% since the creation of company. \n",
    "\n",
    "85 companies have not issued their accounts for almost half of their total business establishments in Edinburgh. This translates to about 30% of companies in goes underreported. Based on the chart below, the numbers mostly come from businesses that has operated for more than 10 years.\n",
    "\n",
    "Using this information, Companies House can take further action to see if these companies have closed down or if these companies are potentially fraudulent company. \n"
   ]
  },
  {
   "cell_type": "code",
   "execution_count": 72,
   "id": "72c34409",
   "metadata": {},
   "outputs": [
    {
     "data": {
      "image/png": "[encoded data removed]",
      "text/plain": [
       "<Figure size 432x288 with 1 Axes>"
      ]
     },
     "metadata": {},
     "output_type": "display_data"
    },
    {
     "data": {
      "text/plain": [
       "<AxesSubplot:ylabel='lifespan_label'>"
      ]
     },
     "execution_count": 72,
     "metadata": {},
     "output_type": "execute_result"
    },
    {
     "data": {
      "image/png": "[encoded data removed]",
      "text/plain": [
       "<Figure size 432x288 with 1 Axes>"
      ]
     },
     "metadata": {
      "needs_background": "light"
     },
     "output_type": "display_data"
    }
   ],
   "source": [
    "#draw pie chart of companies with issued accounts percentage\n",
    "\n",
    "data = edin_comp.groupby(\"accounts_issued_percentage\")[\"accounts_issued_percentage\"].count()\n",
    "label = [' < 50% Accounts Issued', ' > 50% Accounts Issued']\n",
    "data.plot.pie(autopct=\"%.1f%%\",labels=label);\n",
    "plt.title('Edinburgh Companies % of Issued Accounts')\n",
    "plt.axis('equal')\n",
    "plt.show()\n",
    "\n",
    "#draw companies with respective lifespan categories and accounts issued percentage\n",
    "edin_comp.groupby('lifespan_label').accounts_issued_percentage.value_counts().unstack().plot.barh()"
   ]
  },
  {
   "cell_type": "markdown",
   "id": "6dc9e7e6",
   "metadata": {},
   "source": [
    "# Business Question 2:"
   ]
  },
  {
   "cell_type": "markdown",
   "id": "1cc860d0",
   "metadata": {},
   "source": [
    "### Business Question 2: Code:"
   ]
  },
  {
   "cell_type": "code",
   "execution_count": 80,
   "id": "b2aad17e",
   "metadata": {
    "deletable": false,
    "nbgrader": {
     "cell_type": "code",
     "checksum": "5852b9053d1c37cb5d3d238ee64a94cf",
     "grade": true,
     "grade_id": "cell-7c8b65431ad41ec6",
     "locked": false,
     "points": 100,
     "schema_version": 3,
     "solution": true,
     "task": false
    }
   },
   "outputs": [],
   "source": [
    "# YOUR CODE HERE\n",
    "import requests\n",
    "import pprint as pp\n",
    "from datetime import date \n",
    "from datetime import datetime\n",
    "import numpy as np\n",
    "import pandas as pd\n",
    "from dateutil.relativedelta import relativedelta\n",
    "import matplotlib.pyplot as plt\n",
    "from statistics import mean\n",
    "import math\n",
    "import time\n",
    "import json\n",
    "import os\n",
    "import seaborn as sns\n",
    "from statistics import mean\n",
    "import matplotlib.pyplot as plt"
   ]
  },
  {
   "cell_type": "code",
   "execution_count": 86,
   "id": "mighty-bobby",
   "metadata": {},
   "outputs": [],
   "source": [
    "def call_api_with(url_extension):\n",
    "    your_company_house_api_key =\"be0ce292-0b62-42e0-9a4c-39c4024bf3c7\"\n",
    "    login_headers = {\"Authorization\":your_company_house_api_key}\n",
    "    url = f\"https://api.companieshouse.gov.uk/{url_extension}\"\n",
    "    #print(f'requesting: {url}') # comment this out if it 'polutes' your output with lots of prints\n",
    "    res = requests.get(url, headers=login_headers) #, verify=False)\n",
    "    if res.status_code == 200:\n",
    "        return res.json()\n",
    "    else:\n",
    "        print(\"status code is not 'SUCCESS 200'. Will wait 20 seconds\")\n",
    "        time.sleep(20) # sleep X seconds\n",
    "        return call_api_with(url_extension)\n",
    "\n",
    "# test to get one company\n",
    "def get_one_test_company_or_error():\n",
    "    url = f\"search/companies?q=shop&items_per_page=1\"\n",
    "    return call_api_with(url)\n",
    "\n",
    "def search_for_companies_with_query(query, optionalNumber_of_companies = 200):\n",
    "    url = f\"search/companies?q={query}&items_per_page={optionalNumber_of_companies}\"\n",
    "    return call_api_with(url).get('items', [])\n",
    "\n",
    "#get gender\n",
    "def gender_if_known(person):\n",
    "    name_elements = person.get('name_elements', {}) # we can use my_dictionary.get(key, value_if_key_missing)\n",
    "    title_if_known = name_elements.get('title', 'Unknown') \n",
    "    \n",
    "    if title_if_known == 'Mr':\n",
    "        return 'Male'\n",
    "    elif title_if_known == 'Mrs' or  title_if_known == 'Ms'  or  title_if_known == 'Miss': # there can be more\n",
    "        return 'Female'\n",
    "    else:\n",
    "        return 'Other or Unknown'\n",
    "\n",
    "assert gender_if_known( {'name': 'Mrs Jasvinder Sohal', 'name_elements': { 'title': 'Mrs'}})  == 'Female'\n",
    "assert gender_if_known( {'name': 'Mr Jasvinder Sohal', 'name_elements': { 'title': 'Mr'}})  == 'Male'\n",
    "assert gender_if_known( {'name': 'Dr Jasvinder Sohal', 'name_elements': { 'title': 'Dr'}})  == 'Other or Unknown'\n",
    "\n",
    "#get voting information\n",
    "def int_from_voting_string(voting_string):\n",
    "    if voting_string.count(\"voting\"):\n",
    "        return int(voting_string.split(\"-\")[4])\n",
    "    else:\n",
    "        return 0\n",
    "\n",
    "assert int_from_voting_string('voting-rights-25-to-50-percent') == 50\n",
    "assert int_from_voting_string('voting-rights-0-to-25-percent') == 25\n",
    "assert int_from_voting_string('ownership-of-shares-25-to-50-percent') == 0\n",
    "\n",
    "#get voting rights information\n",
    "def number_of_voting_rights(all_rights):\n",
    "    voting_percents = [int_from_voting_string(one_right)\n",
    "                       for one_right in all_rights\n",
    "                       if one_right.count(\"voting\")]\n",
    "    return sum(voting_percents)\n",
    "\n",
    "assert number_of_voting_rights(['ownership-of-shares-75-to-100-percent','voting-rights-25-to-50-percent']) == 50\n",
    "assert number_of_voting_rights(['ownership-of-shares-75-to-100-percent','voting-rights-0-to-25-percent']) == 25\n",
    "assert number_of_voting_rights(['ownership-of-shares-75-to-100-percent']) == 0\n",
    "\n",
    "#get ownership\n",
    "def int_from_ownership_string(ownership_string):\n",
    "    if ownership_string.count('ownership'):\n",
    "        return int(ownership_string.split(\"-\")[5])\n",
    "    else:\n",
    "        return 0\n",
    "\n",
    "assert int_from_ownership_string('ownership-of-shares-75-to-100-percent')==100\n",
    "assert int_from_ownership_string('ownership-of-shares-50-to-75-percent')==75\n",
    "\n",
    "#get percentage of ownership\n",
    "def number_of_ownership(all_rights):\n",
    "    ownership_percents = [int_from_ownership_string(one_right)\n",
    "                       for one_right in all_rights\n",
    "                       if one_right.count(\"ownership\")]\n",
    "    return sum(ownership_percents)\n",
    "\n",
    "assert number_of_ownership(['ownership-of-shares-75-to-100-percent','voting-rights-25-to-50-percent']) == 100\n",
    "assert number_of_ownership(['ownership-of-shares-25-to-50-percent','voting-rights-0-to-25-percent']) == 50\n",
    "assert number_of_ownership(['voting-rights-25-to-50-percent']) == 0\n",
    "\n",
    "#right to directors\n",
    "def right_to_directors(all_rights):\n",
    "    if 'right-to-appoint-and-remove-directors' in all_rights:\n",
    "        return True\n",
    "    else:\n",
    "        return False\n",
    "    \n",
    "# get all persons with significant control from company which contains specific keyword\n",
    "def all_persons_in_company(company_number):\n",
    "    url = f\"company/{company_number}/persons-with-significant-control\"\n",
    "    return call_api_with(url).get('items', [])"
   ]
  },
  {
   "cell_type": "code",
   "execution_count": 88,
   "id": "foster-giving",
   "metadata": {},
   "outputs": [],
   "source": [
    "#obtain data from finance companies\n",
    "financial_companies = search_for_companies_with_query(\"finance\", optionalNumber_of_companies = 200)\n"
   ]
  },
  {
   "cell_type": "code",
   "execution_count": null,
   "id": "colored-attraction",
   "metadata": {},
   "outputs": [],
   "source": [
    "# create a dataFrame and save essential information in the df\n",
    "df_persons=pd.DataFrame(columns=['company_field','company_number','date_of_creation','status',\n",
    "                                 'lifespan','name','notified_date',\n",
    "                                 'gender','age','nationality','voting_rights','ownership'])\n",
    "\n",
    "for company in financial_companies:\n",
    "    for person in all_persons_in_company(company['company_number']): \n",
    "        df_persons=df_persons.append({'company_field':'finance','company_number':company['company_number'],\n",
    "                                     'date_of_creation':company.get('date_of_creation','0000'),\n",
    "                                     'status':company['company_status'],\n",
    "                                     'name':person['name'],\n",
    "                                     'notified_date':person.get('notified_on',None),\n",
    "                                     \"gender\":gender_if_known(person),\n",
    "                                    'age':2021-int(person.get(\"date_of_birth\",{}).get('year',2021)),\n",
    "                                    \"nationality\":person.get('nationality',None),\n",
    "                                    \"voting_rights\":number_of_voting_rights(person.get('natures_of_control','')),\n",
    "                                    \"ownership\":number_of_ownership(person.get('natures_of_control',''))},\n",
    "                                    ignore_index=True)"
   ]
  },
  {
   "cell_type": "code",
   "execution_count": null,
   "id": "0a7ce163",
   "metadata": {},
   "outputs": [],
   "source": [
    "#save files\n",
    "df_persons.to_csv('Finance companies.csv',date_format='%Y-%m-%d %H:%M:%S')"
   ]
  },
  {
   "cell_type": "code",
   "execution_count": 120,
   "id": "e921d61a",
   "metadata": {},
   "outputs": [],
   "source": [
    "#load data\n",
    "df_data = pd.read_csv('Finance companies.csv')"
   ]
  },
  {
   "cell_type": "code",
   "execution_count": 128,
   "id": "stuck-charlotte",
   "metadata": {},
   "outputs": [],
   "source": [
    "gender_company=df_persons.loc[df_persons['company_field']=='finance']['gender'].unique()\n",
    "\n",
    "gender_dict={}\n",
    "\n",
    "for i in gender_company:\n",
    "    gender_dict[i]=0\n",
    "    for j in range(len(df_data)):\n",
    "        if df_data.loc[j,'gender']==i:\n",
    "            gender_dict[i]+=1"
   ]
  },
  {
   "cell_type": "code",
   "execution_count": 129,
   "id": "12fcb388",
   "metadata": {},
   "outputs": [
    {
     "data": {
      "text/plain": [
       "{'Male': 6, 'Other or Unknown': 3, 'Female': 4}"
      ]
     },
     "execution_count": 129,
     "metadata": {},
     "output_type": "execute_result"
    }
   ],
   "source": [
    "gender_dict"
   ]
  },
  {
   "cell_type": "code",
   "execution_count": 130,
   "id": "interstate-fountain",
   "metadata": {},
   "outputs": [
    {
     "data": {
      "image/png": "[encoded data removed]",
      "text/plain": [
       "<Figure size 432x288 with 1 Axes>"
      ]
     },
     "metadata": {},
     "output_type": "display_data"
    }
   ],
   "source": [
    "labels=list(gender_dict.keys())\n",
    "values=list(gender_dict.values())\n",
    "  \n",
    "# Plot a pie chart with the pie() function\n",
    "plt.pie(values,  labels=labels, shadow=True, startangle=80, autopct='%1.1f%%')\n",
    " \n",
    "# This function makes the axes equal, so the circle is round\n",
    "plt.axis('equal')\n",
    "\n",
    "# Add a title to the plot\n",
    "plt.title(\"Gender division in Finance Companies\")\n",
    "\n",
    "# Finally, show the plot\n",
    "plt.show()"
   ]
  },
  {
   "cell_type": "markdown",
   "id": "f5f4cee1",
   "metadata": {},
   "source": [
    "### Business Question 2: Mini-report and visualisation:"
   ]
  },
  {
   "cell_type": "markdown",
   "id": "electronic-tattoo",
   "metadata": {},
   "source": [
    "Businesses would benefit from balanced gender diversity since both men and women may contribute diverse perspectives and perspectives to better problem solving and improved company success. Indirectly, this would create inclusive environment to businesses stakeholders and clients. \n",
    "\n",
    "To advocate on this matter, I would like to explore if UK have a balanced gender representation in Finance industries. For the analysis, sample of 200 Finance companies were extracted along with the list of employees and their gender, nationality, voting rights and ownership. Using this data, we can in the chart above that men are still dominating the workforce in Finance and the women representation is still about 16% lower than men. This shows that there are still a lot of work to be done to understand why is there a stark difference in gender disparity. \n",
    "\n",
    "Getting women in the workplace is not hard these days however, one of the highlighted issues in Finance industry is the broken rung"
   ]
  },
  {
   "cell_type": "markdown",
   "id": "aa4b6d95",
   "metadata": {},
   "source": [
    "# Business Question 3:"
   ]
  },
  {
   "cell_type": "markdown",
   "id": "c28ebd9b",
   "metadata": {},
   "source": [
    "### Business Question 3: Code:"
   ]
  },
  {
   "cell_type": "code",
   "execution_count": 90,
   "id": "d2d0bcda",
   "metadata": {
    "deletable": false,
    "nbgrader": {
     "cell_type": "code",
     "checksum": "7cc2cae3f32d42f786fc296b8cca2655",
     "grade": true,
     "grade_id": "cell-fdc7a4890d4d0d75",
     "locked": false,
     "points": 100,
     "schema_version": 3,
     "solution": true,
     "task": false
    }
   },
   "outputs": [],
   "source": [
    "# YOUR CODE HERE\n",
    "import os\n",
    "import math\n",
    "import time\n",
    "import json\n",
    "import requests\n",
    "import numpy as np\n",
    "import pandas as pd\n",
    "import pprint as pp\n",
    "import seaborn as sns\n",
    "from datetime import date \n",
    "from statistics import mean\n",
    "from datetime import datetime\n",
    "import matplotlib.pyplot as plt\n",
    "from sklearn import linear_model\n",
    "from dateutil.relativedelta import relativedelta\n",
    "from sklearn.linear_model import LogisticRegression\n",
    "from sklearn.metrics import classification_report, confusion_matrix\n",
    "from sklearn.model_selection import train_test_split\n",
    "from dython.nominal import identify_nominal_columns\n",
    "from dython.nominal import associations"
   ]
  },
  {
   "cell_type": "code",
   "execution_count": 91,
   "id": "da1a230b",
   "metadata": {},
   "outputs": [],
   "source": [
    "def call_api_with(url_extension):\n",
    "    your_company_house_api_key =\"be0ce292-0b62-42e0-9a4c-39c4024bf3c7\"\n",
    "    login_headers = {\"Authorization\":your_company_house_api_key}\n",
    "    url = f\"https://api.companieshouse.gov.uk/{url_extension}\"\n",
    "    #print(f'requesting: {url}') # comment this out if it 'polutes' your output with lots of prints\n",
    "    res = requests.get(url, headers=login_headers) #, verify=False)\n",
    "    if res.status_code == 200:\n",
    "        return res.json()\n",
    "    else:\n",
    "        print(\"status code is not 'SUCCESS 200'. Will wait 20 seconds\")\n",
    "        time.sleep(20) # sleep X seconds\n",
    "        return call_api_with(url_extension)\n",
    "\n",
    "# test to get one company\n",
    "def get_one_test_company_or_error():\n",
    "    url = f\"search/companies?q=shop&items_per_page=1\"\n",
    "    return call_api_with(url)\n",
    "\n",
    "def search_for_companies_with_query(query, number_of_companies):\n",
    "    page_size = 100\n",
    "    number_of_pages = math.ceil(number_of_companies / page_size) # round up\n",
    "    companies = []\n",
    "    for page_index in range(0, number_of_pages):\n",
    "        url = f\"search/companies?q={query}&items_per_page={page_size}&start_index={page_index*page_size}\"\n",
    "        companies += call_api_with(url).get('items', [])\n",
    "    companies_ids=[company['company_number'] for company in companies]\n",
    "    companies=detailed_info_about_companies_with_ids(companies_ids[:number_of_companies])\n",
    "    return companies\n",
    "\n",
    "def detailed_info_about_companies_with_ids(companies_numbers):\n",
    "    results = []\n",
    "    for company_number in companies_numbers:\n",
    "        results.append(data_for_company(company_number))\n",
    "    return results\n",
    "\n",
    "def data_for_company(company_number):\n",
    "    url = f\"company/{company_number}\"\n",
    "    return call_api_with(url)\n",
    "\n",
    "def remove_columns(dataset, to_remove):\n",
    "    data = dataset.copy()\n",
    "    data = dataset.drop(to_remove, axis=1, errors='ignore')\n",
    "    return data\n",
    "\n",
    "def transform_categorical_variables(fixed_id_data, to_transform):\n",
    "    transformed_data = fixed_id_data.copy()\n",
    "    \n",
    "    ### BEGIN SOLUTION    \n",
    "    # We loop all the variables we want to transform, and to so by introducing dummy variables\n",
    "    for var in to_transform:\n",
    "        transformed_data = pd.concat([transformed_data.drop(var, axis=1), pd.get_dummies(transformed_data[var].values, prefix=var)], axis=1)\n",
    "    ### END SOLUTION\n",
    "    \n",
    "    return transformed_data\n",
    "\n",
    "def evaluate_model(model, X_test, y_test):\n",
    "    \n",
    "    model_acc = model.score(X_test, y_test)\n",
    "    print(\"Test Accuracy: {:.2f}%\".format(model_acc * 100))\n",
    "    \n",
    "    y_true = np.array(y_test)\n",
    "    y_pred = model.predict(X_test)\n",
    "    \n",
    "    cm = confusion_matrix(y_test, y_pred)\n",
    "    clr = classification_report(y_test, y_pred, target_names=[\"Dissolved\", \"Active\"])\n",
    "    \n",
    "    plt.figure(figsize=(8, 8))\n",
    "    sns.heatmap(cm, annot=True, vmin=0, fmt='g', cmap='Blues', cbar=False)\n",
    "    plt.xticks(np.arange(2) + 0.5, [\"NOT DELAY\", \"DELAY\"])\n",
    "    plt.yticks(np.arange(2) + 0.5, [\"NOT DELAY\", \"DELAY\"])\n",
    "    plt.xlabel(\"Predicted\")\n",
    "    plt.ylabel(\"Actual\")\n",
    "    plt.title(\"Confusion Matrix\")\n",
    "    plt.show()\n",
    "    \n",
    "    print(\"Classification Report:\\n----------------------\\n\", clr)"
   ]
  },
  {
   "cell_type": "code",
   "execution_count": 92,
   "id": "1586c210",
   "metadata": {},
   "outputs": [],
   "source": [
    "#Load restaurant data\n",
    "restaurants=search_for_companies_with_query(\"restaurants\", 200)"
   ]
  },
  {
   "cell_type": "code",
   "execution_count": 93,
   "id": "80796381",
   "metadata": {},
   "outputs": [],
   "source": [
    "#Create dataframe\n",
    "restaurants_df=pd.DataFrame(data=restaurants)\n",
    "\n",
    "#save files\n",
    "restaurants_df.to_csv('Edinburgh resto.csv',date_format='%Y-%m-%d %H:%M:%S')\n",
    "\n",
    "#load data\n",
    "df_data = pd.read_csv('Edinburgh resto.csv')"
   ]
  },
  {
   "cell_type": "code",
   "execution_count": 94,
   "id": "75c7f516",
   "metadata": {},
   "outputs": [
    {
     "data": {
      "text/html": [
       "<div>\n",
       "<style scoped>\n",
       "    .dataframe tbody tr th:only-of-type {\n",
       "        vertical-align: middle;\n",
       "    }\n",
       "\n",
       "    .dataframe tbody tr th {\n",
       "        vertical-align: top;\n",
       "    }\n",
       "\n",
       "    .dataframe thead th {\n",
       "        text-align: right;\n",
       "    }\n",
       "</style>\n",
       "<table border=\"1\" class=\"dataframe\">\n",
       "  <thead>\n",
       "    <tr style=\"text-align: right;\">\n",
       "      <th></th>\n",
       "      <th>links</th>\n",
       "      <th>date_of_creation</th>\n",
       "      <th>company_number</th>\n",
       "      <th>type</th>\n",
       "      <th>has_charges</th>\n",
       "      <th>jurisdiction</th>\n",
       "      <th>accounts</th>\n",
       "      <th>company_name</th>\n",
       "      <th>undeliverable_registered_office_address</th>\n",
       "      <th>etag</th>\n",
       "      <th>...</th>\n",
       "      <th>date_of_cessation</th>\n",
       "      <th>can_file</th>\n",
       "      <th>previous_company_names</th>\n",
       "      <th>has_super_secure_pscs</th>\n",
       "      <th>confirmation_statement</th>\n",
       "      <th>last_full_members_list_date</th>\n",
       "      <th>status</th>\n",
       "      <th>has_been_liquidated</th>\n",
       "      <th>company_status_detail</th>\n",
       "      <th>annual_return</th>\n",
       "    </tr>\n",
       "  </thead>\n",
       "  <tbody>\n",
       "    <tr>\n",
       "      <th>0</th>\n",
       "      <td>{'filing_history': '/company/10606119/filing-h...</td>\n",
       "      <td>2017-02-07</td>\n",
       "      <td>10606119</td>\n",
       "      <td>ltd</td>\n",
       "      <td>False</td>\n",
       "      <td>england-wales</td>\n",
       "      <td>{'accounting_reference_date': {'month': '02', ...</td>\n",
       "      <td>RESTAURANTS LIMITED</td>\n",
       "      <td>False</td>\n",
       "      <td>f27641ecd964733e21a5b9de2fc5f17eda8bbfb4</td>\n",
       "      <td>...</td>\n",
       "      <td>2018-07-17</td>\n",
       "      <td>False</td>\n",
       "      <td>NaN</td>\n",
       "      <td>NaN</td>\n",
       "      <td>NaN</td>\n",
       "      <td>NaN</td>\n",
       "      <td>NaN</td>\n",
       "      <td>NaN</td>\n",
       "      <td>NaN</td>\n",
       "      <td>NaN</td>\n",
       "    </tr>\n",
       "    <tr>\n",
       "      <th>1</th>\n",
       "      <td>{'self': '/company/10238138', 'filing_history'...</td>\n",
       "      <td>2016-06-17</td>\n",
       "      <td>10238138</td>\n",
       "      <td>ltd</td>\n",
       "      <td>False</td>\n",
       "      <td>england-wales</td>\n",
       "      <td>{'accounting_reference_date': {'month': '11', ...</td>\n",
       "      <td>RESTAURANTS &amp; MANAGEMENT LTD</td>\n",
       "      <td>False</td>\n",
       "      <td>73497dd316e7f89d92a191b195cd6705d02d15e9</td>\n",
       "      <td>...</td>\n",
       "      <td>2021-12-07</td>\n",
       "      <td>False</td>\n",
       "      <td>[{'effective_from': '2016-06-17', 'ceased_on':...</td>\n",
       "      <td>False</td>\n",
       "      <td>NaN</td>\n",
       "      <td>NaN</td>\n",
       "      <td>NaN</td>\n",
       "      <td>NaN</td>\n",
       "      <td>NaN</td>\n",
       "      <td>NaN</td>\n",
       "    </tr>\n",
       "    <tr>\n",
       "      <th>2</th>\n",
       "      <td>{'filing_history': '/company/NI650401/filing-h...</td>\n",
       "      <td>2018-01-19</td>\n",
       "      <td>NI650401</td>\n",
       "      <td>ltd</td>\n",
       "      <td>False</td>\n",
       "      <td>northern-ireland</td>\n",
       "      <td>{'next_accounts': {'period_end_on': '2022-01-3...</td>\n",
       "      <td>RESTAURANTS BRITAIN LIMITED</td>\n",
       "      <td>False</td>\n",
       "      <td>7864e0430e026dbff768965cc9e76c04cf002fa4</td>\n",
       "      <td>...</td>\n",
       "      <td>NaN</td>\n",
       "      <td>True</td>\n",
       "      <td>NaN</td>\n",
       "      <td>False</td>\n",
       "      <td>{'next_made_up_to': '2022-01-18', 'next_due': ...</td>\n",
       "      <td>NaN</td>\n",
       "      <td>NaN</td>\n",
       "      <td>NaN</td>\n",
       "      <td>NaN</td>\n",
       "      <td>NaN</td>\n",
       "    </tr>\n",
       "    <tr>\n",
       "      <th>3</th>\n",
       "      <td>{'filing_history': '/company/11309533/filing-h...</td>\n",
       "      <td>2018-04-13</td>\n",
       "      <td>11309533</td>\n",
       "      <td>ltd</td>\n",
       "      <td>False</td>\n",
       "      <td>england-wales</td>\n",
       "      <td>{'overdue': False, 'next_due': '2022-01-31', '...</td>\n",
       "      <td>RESTAURANTS DIRECT LTD</td>\n",
       "      <td>False</td>\n",
       "      <td>ebe96cb7fa300576e78c056828dfff033a14b5f6</td>\n",
       "      <td>...</td>\n",
       "      <td>NaN</td>\n",
       "      <td>True</td>\n",
       "      <td>[{'ceased_on': '2020-08-14', 'name': 'EURO-REC...</td>\n",
       "      <td>False</td>\n",
       "      <td>{'next_made_up_to': '2022-09-03', 'last_made_u...</td>\n",
       "      <td>NaN</td>\n",
       "      <td>NaN</td>\n",
       "      <td>NaN</td>\n",
       "      <td>NaN</td>\n",
       "      <td>NaN</td>\n",
       "    </tr>\n",
       "    <tr>\n",
       "      <th>4</th>\n",
       "      <td>{'self': '/company/06264158', 'filing_history'...</td>\n",
       "      <td>2007-05-31</td>\n",
       "      <td>06264158</td>\n",
       "      <td>ltd</td>\n",
       "      <td>True</td>\n",
       "      <td>england-wales</td>\n",
       "      <td>{'overdue': True, 'accounting_reference_date':...</td>\n",
       "      <td>RESTAURANTS ETC LIMITED</td>\n",
       "      <td>False</td>\n",
       "      <td>d730d12a934fa454bcbf067f171f5d6b84d1a63f</td>\n",
       "      <td>...</td>\n",
       "      <td>NaN</td>\n",
       "      <td>True</td>\n",
       "      <td>NaN</td>\n",
       "      <td>False</td>\n",
       "      <td>{'overdue': True, 'next_made_up_to': '2020-06-...</td>\n",
       "      <td>2016-06-03</td>\n",
       "      <td>active</td>\n",
       "      <td>False</td>\n",
       "      <td>NaN</td>\n",
       "      <td>NaN</td>\n",
       "    </tr>\n",
       "  </tbody>\n",
       "</table>\n",
       "<p>5 rows × 25 columns</p>\n",
       "</div>"
      ],
      "text/plain": [
       "                                               links date_of_creation  \\\n",
       "0  {'filing_history': '/company/10606119/filing-h...       2017-02-07   \n",
       "1  {'self': '/company/10238138', 'filing_history'...       2016-06-17   \n",
       "2  {'filing_history': '/company/NI650401/filing-h...       2018-01-19   \n",
       "3  {'filing_history': '/company/11309533/filing-h...       2018-04-13   \n",
       "4  {'self': '/company/06264158', 'filing_history'...       2007-05-31   \n",
       "\n",
       "  company_number type  has_charges      jurisdiction  \\\n",
       "0       10606119  ltd        False     england-wales   \n",
       "1       10238138  ltd        False     england-wales   \n",
       "2       NI650401  ltd        False  northern-ireland   \n",
       "3       11309533  ltd        False     england-wales   \n",
       "4       06264158  ltd         True     england-wales   \n",
       "\n",
       "                                            accounts  \\\n",
       "0  {'accounting_reference_date': {'month': '02', ...   \n",
       "1  {'accounting_reference_date': {'month': '11', ...   \n",
       "2  {'next_accounts': {'period_end_on': '2022-01-3...   \n",
       "3  {'overdue': False, 'next_due': '2022-01-31', '...   \n",
       "4  {'overdue': True, 'accounting_reference_date':...   \n",
       "\n",
       "                   company_name  undeliverable_registered_office_address  \\\n",
       "0           RESTAURANTS LIMITED                                    False   \n",
       "1  RESTAURANTS & MANAGEMENT LTD                                    False   \n",
       "2   RESTAURANTS BRITAIN LIMITED                                    False   \n",
       "3        RESTAURANTS DIRECT LTD                                    False   \n",
       "4       RESTAURANTS ETC LIMITED                                    False   \n",
       "\n",
       "                                       etag  ... date_of_cessation can_file  \\\n",
       "0  f27641ecd964733e21a5b9de2fc5f17eda8bbfb4  ...        2018-07-17    False   \n",
       "1  73497dd316e7f89d92a191b195cd6705d02d15e9  ...        2021-12-07    False   \n",
       "2  7864e0430e026dbff768965cc9e76c04cf002fa4  ...               NaN     True   \n",
       "3  ebe96cb7fa300576e78c056828dfff033a14b5f6  ...               NaN     True   \n",
       "4  d730d12a934fa454bcbf067f171f5d6b84d1a63f  ...               NaN     True   \n",
       "\n",
       "                              previous_company_names has_super_secure_pscs  \\\n",
       "0                                                NaN                   NaN   \n",
       "1  [{'effective_from': '2016-06-17', 'ceased_on':...                 False   \n",
       "2                                                NaN                 False   \n",
       "3  [{'ceased_on': '2020-08-14', 'name': 'EURO-REC...                 False   \n",
       "4                                                NaN                 False   \n",
       "\n",
       "                              confirmation_statement  \\\n",
       "0                                                NaN   \n",
       "1                                                NaN   \n",
       "2  {'next_made_up_to': '2022-01-18', 'next_due': ...   \n",
       "3  {'next_made_up_to': '2022-09-03', 'last_made_u...   \n",
       "4  {'overdue': True, 'next_made_up_to': '2020-06-...   \n",
       "\n",
       "  last_full_members_list_date  status has_been_liquidated  \\\n",
       "0                         NaN     NaN                 NaN   \n",
       "1                         NaN     NaN                 NaN   \n",
       "2                         NaN     NaN                 NaN   \n",
       "3                         NaN     NaN                 NaN   \n",
       "4                  2016-06-03  active               False   \n",
       "\n",
       "  company_status_detail annual_return  \n",
       "0                   NaN           NaN  \n",
       "1                   NaN           NaN  \n",
       "2                   NaN           NaN  \n",
       "3                   NaN           NaN  \n",
       "4                   NaN           NaN  \n",
       "\n",
       "[5 rows x 25 columns]"
      ]
     },
     "execution_count": 94,
     "metadata": {},
     "output_type": "execute_result"
    }
   ],
   "source": [
    "#Overview of the dataframe\n",
    "restaurants_df.head()"
   ]
  },
  {
   "cell_type": "code",
   "execution_count": 95,
   "id": "28470670",
   "metadata": {},
   "outputs": [],
   "source": [
    "#Remove unnecessary columns\n",
    "to_remove=['confirmation_statement','previous_company_names','last_full_members_list_date','etag','accounts','links','undeliverable_registered_office_address','company_number','company_name','undeliverable_registered_office_address','can_file']\n",
    "restaurants_df_clean=remove_columns(restaurants_df,to_remove)"
   ]
  },
  {
   "cell_type": "code",
   "execution_count": 96,
   "id": "b1b1b25f",
   "metadata": {},
   "outputs": [],
   "source": [
    "#compute locality of the company\n",
    "restaurants_df_clean['locality']=[company['registered_office_address']['locality'] for company in restaurants]\n",
    "\n",
    "#Calculate lifespan\n",
    "lifespan=[]\n",
    "for i in range(len(restaurants_df_clean)):          \n",
    "    lifespan.append(2021-int(restaurants_df_clean.loc[i]['date_of_creation'][:4]))\n",
    "restaurants_df_clean['lifespan']=lifespan\n",
    "\n",
    "#create creation year column\n",
    "creation_year=[]\n",
    "for i in range(len(restaurants_df_clean)):\n",
    "    creation_year.append(int(restaurants_df_clean.loc[i]['date_of_creation'][:4]))\n",
    "restaurants_df_clean['creation_year']=creation_year\n",
    "\n",
    "#create creation month column\n",
    "creation_month=[]\n",
    "for i in range(len(restaurants_df_clean)):\n",
    "    creation_month.append(int(restaurants_df_clean.loc[i]['date_of_creation'][6:7]))\n",
    "restaurants_df_clean['creation_month']=creation_month\n",
    "\n",
    "#remove columns with na\n",
    "restaurants_df_clean=restaurants_df_clean.dropna(axis=1)"
   ]
  },
  {
   "cell_type": "code",
   "execution_count": 97,
   "id": "a0cb8327",
   "metadata": {},
   "outputs": [
    {
     "name": "stdout",
     "output_type": "stream",
     "text": [
      "date_of_creation             0\n",
      "type                         0\n",
      "has_charges                  0\n",
      "jurisdiction                 0\n",
      "registered_office_address    0\n",
      "company_status               0\n",
      "has_insolvency_history       0\n",
      "locality                     0\n",
      "lifespan                     0\n",
      "creation_year                0\n",
      "creation_month               0\n",
      "dtype: int64\n"
     ]
    }
   ],
   "source": [
    "#check if there is any missing values.\n",
    "print(restaurants_df_clean.isna().sum())"
   ]
  },
  {
   "cell_type": "code",
   "execution_count": 98,
   "id": "fee6542b",
   "metadata": {},
   "outputs": [],
   "source": [
    "#remove registered office address \n",
    "to_remove=['registered_office_address','accounts','date_of_creation','type']\n",
    "restaurants_df_clean=remove_columns(restaurants_df_clean,to_remove)"
   ]
  },
  {
   "cell_type": "code",
   "execution_count": 99,
   "id": "d1b0ec9b",
   "metadata": {},
   "outputs": [
    {
     "data": {
      "text/plain": [
       "active            136\n",
       "dissolved          48\n",
       "liquidation        15\n",
       "administration      1\n",
       "Name: company_status, dtype: int64"
      ]
     },
     "execution_count": 99,
     "metadata": {},
     "output_type": "execute_result"
    }
   ],
   "source": [
    "restaurants_df_clean['company_status'].value_counts()"
   ]
  },
  {
   "cell_type": "code",
   "execution_count": 100,
   "id": "3d656679",
   "metadata": {},
   "outputs": [
    {
     "data": {
      "image/png": "[encoded data removed]",
      "text/plain": [
       "<Figure size 1440x1440 with 2 Axes>"
      ]
     },
     "metadata": {
      "needs_background": "light"
     },
     "output_type": "display_data"
    }
   ],
   "source": [
    "complete_correlation= associations(restaurants_df_clean, figsize=(20,20),cmap=\"BuPu\",)"
   ]
  },
  {
   "cell_type": "code",
   "execution_count": 106,
   "id": "5d2bf777",
   "metadata": {},
   "outputs": [
    {
     "data": {
      "image/png": "[encoded data removed]",
      "text/plain": [
       "<Figure size 1440x288 with 1 Axes>"
      ]
     },
     "metadata": {
      "needs_background": "light"
     },
     "output_type": "display_data"
    }
   ],
   "source": [
    "locality_plot=(restaurants_df_clean.groupby('locality').mean().plot(y=\"lifespan\", kind='bar',figsize=(20,4)))\n",
    "locality_plot.plot()\n",
    "plt.show()"
   ]
  },
  {
   "cell_type": "code",
   "execution_count": 107,
   "id": "59b2733f",
   "metadata": {},
   "outputs": [
    {
     "data": {
      "image/png": "[encoded data removed]",
      "text/plain": [
       "<Figure size 432x288 with 1 Axes>"
      ]
     },
     "metadata": {},
     "output_type": "display_data"
    }
   ],
   "source": [
    "ser = restaurants_df_clean.groupby('locality')['has_charges'].sum()\n",
    "\n",
    "### Combine categories\n",
    "ser = ser.sort_values(ascending=False)\n",
    "ser['Others'] = ser[3:].sum()\n",
    "ser = ser.iloc[[0,1,2,-1]]\n",
    "\n",
    "fig = plt.figure()\n",
    "ax = fig.add_subplot(111)\n",
    "\n",
    "plot=ax.pie(ser.values, startangle=90, autopct=lambda x:int(x/100.*ser.sum()), pctdistance=0.5, counterclock=False)\n",
    "ax.legend(labels=ser.index)\n",
    "plt.axis('equal')\n",
    "plt.show()"
   ]
  },
  {
   "cell_type": "code",
   "execution_count": 109,
   "id": "d765d26e",
   "metadata": {},
   "outputs": [
    {
     "data": {
      "image/png": "[encoded data removed]",
      "text/plain": [
       "<Figure size 432x288 with 1 Axes>"
      ]
     },
     "metadata": {},
     "output_type": "display_data"
    }
   ],
   "source": [
    "ser = restaurants_df_clean.groupby('locality')['has_insolvency_history'].sum()\n",
    "\n",
    "### Combine categories\n",
    "ser = ser.sort_values(ascending=False)\n",
    "ser['Others'] = ser[3:].sum()\n",
    "ser = ser.iloc[[0,1,2,-1]]\n",
    "\n",
    "fig = plt.figure()\n",
    "ax = fig.add_subplot(111)\n",
    "\n",
    "ax.pie(ser.values, startangle=90, autopct=lambda x:int(x/100.*ser.sum()), pctdistance=0.8, counterclock=False)\n",
    "ax.legend(labels=ser.index)\n",
    "plt.axis('equal')\n",
    "plt.show()"
   ]
  },
  {
   "cell_type": "markdown",
   "id": "0c1c4916",
   "metadata": {},
   "source": [
    "### Business Question 3: Mini-report and visualisation:"
   ]
  },
  {
   "cell_type": "markdown",
   "id": "injured-elements",
   "metadata": {},
   "source": [
    "In this business question I would like to see what factors affects the surival rate of restaurants. Using the API data, the data from restaurants were extracted along with business information such as the lifespan, month, creation year and others. The missing values and unnecessary columns were then removed before creating correlation matrix.\n",
    "\n",
    "Based on the correlation matrix, the locality has a strong relationship on the lifespan, year of creation, month of creation, number of charges and insolvency history. It also have a distinct relationship with jurisdiction, as it should be as each locality belongs to their jurisdiction. On the other hand, company that has insolvency history have affect on the company status. Looking at the data, this is most likely because the companies that has dissolved may have insolvency issues before. \n",
    "\n",
    "Based on the charts, we can deep dive and see that the companies has a higher survival rate in Poole, Smethwick and Peacehaven locality. Meanwhile, London and Birmingham takes the cake for the number of charges and insolvency history."
   ]
  }
 ],
 "metadata": {
  "kernelspec": {
   "display_name": "Python 3 (ipykernel)",
   "language": "python",
   "name": "python3"
  },
  "language_info": {
   "codemirror_mode": {
    "name": "ipython",
    "version": 3
   },
   "file_extension": ".py",
   "mimetype": "text/x-python",
   "name": "python",
   "nbconvert_exporter": "python",
   "pygments_lexer": "ipython3",
   "version": "3.9.12"
  }
 },
 "nbformat": 4,
 "nbformat_minor": 5
}
